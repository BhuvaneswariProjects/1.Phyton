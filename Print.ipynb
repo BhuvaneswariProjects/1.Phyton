{
 "cells": [
  {
   "cell_type": "code",
   "execution_count": 1,
   "id": "e00ebcbe",
   "metadata": {},
   "outputs": [
    {
     "name": "stdout",
     "output_type": "stream",
     "text": [
      "Helo Ai\n"
     ]
    }
   ],
   "source": [
    "print(\"Helo Ai\")"
   ]
  },
  {
   "cell_type": "code",
   "execution_count": 2,
   "id": "33feba9d",
   "metadata": {},
   "outputs": [
    {
     "name": "stdout",
     "output_type": "stream",
     "text": [
      "Bhuvi\n"
     ]
    }
   ],
   "source": [
    "print(\"Bhuvi\")"
   ]
  },
  {
   "cell_type": "code",
   "execution_count": null,
   "id": "8a867b20",
   "metadata": {},
   "outputs": [],
   "source": []
  }
 ],
 "metadata": {
  "kernelspec": {
   "display_name": "Python 3 (ipykernel)",
   "language": "python",
   "name": "python3"
  },
  "language_info": {
   "codemirror_mode": {
    "name": "ipython",
    "version": 3
   },
   "file_extension": ".py",
   "mimetype": "text/x-python",
   "name": "python",
   "nbconvert_exporter": "python",
   "pygments_lexer": "ipython3",
   "version": "3.11.5"
  }
 },
 "nbformat": 4,
 "nbformat_minor": 5
}
