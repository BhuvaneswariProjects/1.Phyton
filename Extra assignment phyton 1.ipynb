{
 "cells": [
  {
   "cell_type": "code",
   "execution_count": 1,
   "id": "3fd514ec",
   "metadata": {},
   "outputs": [
    {
     "name": "stdout",
     "output_type": "stream",
     "text": [
      "HOPE AI\n"
     ]
    }
   ],
   "source": [
    "print(\"HOPE AI\")"
   ]
  },
  {
   "cell_type": "markdown",
   "id": "c7fa7e64",
   "metadata": {},
   "source": [
    "# Buy inputs"
   ]
  },
  {
   "cell_type": "code",
   "execution_count": 2,
   "id": "c72203e4",
   "metadata": {},
   "outputs": [
    {
     "name": "stdout",
     "output_type": "stream",
     "text": [
      "Enter your institute name?:HOPE AI\n"
     ]
    }
   ],
   "source": [
    "name= input(\"Enter your institute name?:\")"
   ]
  },
  {
   "cell_type": "code",
   "execution_count": 1,
   "id": "7dd6043e",
   "metadata": {},
   "outputs": [
    {
     "name": "stdout",
     "output_type": "stream",
     "text": [
      "Enter your name:Raj\n",
      "Enter your age:15\n",
      "Enter your school name:Guru school\n",
      "Enter your degree:B.E CSE\n"
     ]
    }
   ],
   "source": [
    "name=input(\"Enter your name:\")\n",
    "age=int(input(\"Enter your age:\"))\n",
    "schoolname=input(\"Enter your school name:\")\n",
    "degree=input(\"Enter your degree:\")"
   ]
  },
  {
   "cell_type": "markdown",
   "id": "9ce3d714",
   "metadata": {},
   "source": [
    "# addition"
   ]
  },
  {
   "cell_type": "code",
   "execution_count": 2,
   "id": "73e03fdd",
   "metadata": {},
   "outputs": [
    {
     "name": "stdout",
     "output_type": "stream",
     "text": [
      "a= 43\n",
      "b= 34\n",
      "add= 77\n"
     ]
    }
   ],
   "source": [
    "a=43\n",
    "b=34\n",
    "add=a+b\n",
    "print('a=',a)\n",
    "print('b=',b)\n",
    "print('add=',add)\n"
   ]
  },
  {
   "cell_type": "markdown",
   "id": "e9116129",
   "metadata": {},
   "source": [
    "# subtraction"
   ]
  },
  {
   "cell_type": "code",
   "execution_count": 1,
   "id": "30ccde88",
   "metadata": {},
   "outputs": [
    {
     "name": "stdout",
     "output_type": "stream",
     "text": [
      "a= 43\n",
      "b= 34\n",
      "sub 9\n"
     ]
    }
   ],
   "source": [
    "a=43\n",
    "b=34\n",
    "sub=a-b\n",
    "print(\"a=\",a)\n",
    "print(\"b=\",b)\n",
    "print(\"sub\",sub)"
   ]
  },
  {
   "cell_type": "markdown",
   "id": "b63c82d4",
   "metadata": {},
   "source": [
    "# multiplication"
   ]
  },
  {
   "cell_type": "code",
   "execution_count": 2,
   "id": "e451c850",
   "metadata": {},
   "outputs": [
    {
     "name": "stdout",
     "output_type": "stream",
     "text": [
      "a= 63\n",
      "b= 97\n",
      "Mul= 6111\n"
     ]
    }
   ],
   "source": [
    "a=63\n",
    "b=97\n",
    "mul=a*b\n",
    "print(\"a=\",a)\n",
    "print(\"b=\",b)\n",
    "print(\"Mul=\",mul)"
   ]
  },
  {
   "cell_type": "markdown",
   "id": "0c638786",
   "metadata": {},
   "source": [
    "# Division"
   ]
  },
  {
   "cell_type": "code",
   "execution_count": 4,
   "id": "8aed650f",
   "metadata": {},
   "outputs": [
    {
     "name": "stdout",
     "output_type": "stream",
     "text": [
      "a= 76\n",
      "b= 31\n",
      "Float Div= 2.4516129032258065\n"
     ]
    }
   ],
   "source": [
    "a=76\n",
    "b=31\n",
    "div=a/b\n",
    "print(\"a=\",a)\n",
    "print(\"b=\",b)\n",
    "print(\"Float Div=\",div)"
   ]
  },
  {
   "cell_type": "markdown",
   "id": "1aff33b9",
   "metadata": {},
   "source": [
    "#Floor division"
   ]
  },
  {
   "cell_type": "code",
   "execution_count": 5,
   "id": "c139eb35",
   "metadata": {},
   "outputs": [
    {
     "name": "stdout",
     "output_type": "stream",
     "text": [
      "a= 76\n",
      "b= 31\n",
      "Floor Div= 2\n"
     ]
    }
   ],
   "source": [
    "a=76\n",
    "b=31\n",
    "div=a//b\n",
    "print(\"a=\",a)\n",
    "print(\"b=\",b)\n",
    "print(\"Floor Div=\",div)"
   ]
  },
  {
   "cell_type": "markdown",
   "id": "be1e415c",
   "metadata": {},
   "source": [
    "#Modulo"
   ]
  },
  {
   "cell_type": "code",
   "execution_count": 6,
   "id": "49c4ad7f",
   "metadata": {},
   "outputs": [
    {
     "name": "stdout",
     "output_type": "stream",
     "text": [
      "a= 76\n",
      "b= 31\n",
      "Modulo= 14\n"
     ]
    }
   ],
   "source": [
    "a=76\n",
    "b=31\n",
    "modulo=a%b\n",
    "print(\"a=\",a)\n",
    "print(\"b=\",b)\n",
    "print(\"Modulo=\",modulo)\n"
   ]
  },
  {
   "cell_type": "code",
   "execution_count": null,
   "id": "a2aef078",
   "metadata": {},
   "outputs": [],
   "source": [
    "#power"
   ]
  },
  {
   "cell_type": "code",
   "execution_count": 7,
   "id": "ec24153c",
   "metadata": {},
   "outputs": [
    {
     "name": "stdout",
     "output_type": "stream",
     "text": [
      "a= 4\n",
      "b= 4\n",
      "Power= 256\n"
     ]
    }
   ],
   "source": [
    "a=4\n",
    "b=4\n",
    "power=a**b\n",
    "print(\"a=\",a)\n",
    "print(\"b=\",b)\n",
    "print(\"Power=\",power)"
   ]
  },
  {
   "cell_type": "code",
   "execution_count": null,
   "id": "f32db013",
   "metadata": {},
   "outputs": [],
   "source": []
  }
 ],
 "metadata": {
  "kernelspec": {
   "display_name": "Python 3 (ipykernel)",
   "language": "python",
   "name": "python3"
  },
  "language_info": {
   "codemirror_mode": {
    "name": "ipython",
    "version": 3
   },
   "file_extension": ".py",
   "mimetype": "text/x-python",
   "name": "python",
   "nbconvert_exporter": "python",
   "pygments_lexer": "ipython3",
   "version": "3.11.5"
  }
 },
 "nbformat": 4,
 "nbformat_minor": 5
}
