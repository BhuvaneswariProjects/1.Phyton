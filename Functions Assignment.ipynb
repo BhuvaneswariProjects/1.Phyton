{
 "cells": [
  {
   "cell_type": "code",
   "execution_count": 1,
   "id": "432b9b5d",
   "metadata": {},
   "outputs": [],
   "source": [
    "def Subfields():\n",
    "    print(\"Sub fields in AI are:\")\n",
    "    List=[\"Machine learning\",\"Neural Networks\",\"Vision\",\"Robotics\",\"Speech Processing\",\"Natural Language Processing\"]\n",
    "    for temp in List:\n",
    "        print(temp)\n",
    "    "
   ]
  },
  {
   "cell_type": "code",
   "execution_count": 2,
   "id": "44f9e53e",
   "metadata": {},
   "outputs": [
    {
     "name": "stdout",
     "output_type": "stream",
     "text": [
      "Sub fields in AI are:\n",
      "Machine learning\n",
      "Neural Networks\n",
      "Vision\n",
      "Robotics\n",
      "Speech Processing\n",
      "Natural Language Processing\n"
     ]
    }
   ],
   "source": [
    "Subfields()"
   ]
  },
  {
   "cell_type": "code",
   "execution_count": 3,
   "id": "41120b9c",
   "metadata": {},
   "outputs": [],
   "source": [
    "def oddoreven():\n",
    "    num =int(input(\"Enter the number:\"))\n",
    "    if(num%2==0):\n",
    "        print(num,\"is even number\")\n",
    "    else:\n",
    "        print(num,\"is odd number\")"
   ]
  },
  {
   "cell_type": "code",
   "execution_count": 4,
   "id": "bd33bc90",
   "metadata": {},
   "outputs": [
    {
     "name": "stdout",
     "output_type": "stream",
     "text": [
      "Enter the number:52452\n",
      "52452 is even number\n"
     ]
    }
   ],
   "source": [
    "oddoreven()"
   ]
  },
  {
   "cell_type": "code",
   "execution_count": 5,
   "id": "a764dd9a",
   "metadata": {},
   "outputs": [],
   "source": [
    "def Eligible():\n",
    "    gender=input(\"Your gender:\");\n",
    "    age=int(input(\"Your age:\"));\n",
    "    if(gender==\"Male\"):\n",
    "        if(age<= 21):\n",
    "            print(\"NOT ELIGIBLE\");\n",
    "        else:\n",
    "            print(\"ELIGIBLE\")\n",
    "        "
   ]
  },
  {
   "cell_type": "code",
   "execution_count": 6,
   "id": "c425bc17",
   "metadata": {},
   "outputs": [
    {
     "name": "stdout",
     "output_type": "stream",
     "text": [
      "Your gender:Male\n",
      "Your age:20\n",
      "NOT ELIGIBLE\n"
     ]
    }
   ],
   "source": [
    "Eligible()"
   ]
  },
  {
   "cell_type": "code",
   "execution_count": 7,
   "id": "552fdb78",
   "metadata": {},
   "outputs": [],
   "source": [
    "def percentage():\n",
    "    sub1=(int(input(\"Subject1=\")));\n",
    "    sub2=(int(input(\"Subject2=\")));\n",
    "    sub3=(int(input(\"Subject3=\")));\n",
    "    sub4=(int(input(\"Subject4=\")));\n",
    "    sub5=(int(input(\"Subject5=\")));\n",
    "    total = sub1+sub2+sub3+sub4+sub5\n",
    "    print(\"Total:\",total)\n",
    "    per=float(total)*(100/500)\n",
    "    print(\"Percentage:\",per)"
   ]
  },
  {
   "cell_type": "code",
   "execution_count": 8,
   "id": "38c0ef1b",
   "metadata": {},
   "outputs": [
    {
     "name": "stdout",
     "output_type": "stream",
     "text": [
      "Subject1=98\n",
      "Subject2=87\n",
      "Subject3=95\n",
      "Subject4=95\n",
      "Subject5=93\n",
      "Total: 468\n",
      "Percentage: 93.60000000000001\n"
     ]
    }
   ],
   "source": [
    "percentage()"
   ]
  },
  {
   "cell_type": "markdown",
   "id": "88c5e16f",
   "metadata": {},
   "source": [
    "#print area and perimeter of triangle"
   ]
  },
  {
   "cell_type": "code",
   "execution_count": 9,
   "id": "c9274774",
   "metadata": {},
   "outputs": [],
   "source": [
    "def triangle():\n",
    "    Height=int(input(\"Height:\"));\n",
    "    Breadth=int(input(\"Breadth:\"))\n",
    "    print(\"Area formula: (Height*Breadth)/2\")\n",
    "    Area = (Height*Breadth)/2\n",
    "    print(\"Area of traingle\",Area)\n",
    "    Height1=int(input(\"Height1:\"));\n",
    "    Height2=int(input(\"Height2:\"));\n",
    "    Breadth=int(input(\"Breadth:\"));\n",
    "    Perimeter=Height1+Height2+Breadth\n",
    "    print(\"Perimeter formula:Height1+Height2+Breadth\")\n",
    "    print(\"Perimeter of triangle\",Perimeter)\n",
    "    \n",
    "    \n",
    " \n",
    "    \n",
    "\n",
    "\n",
    "\n"
   ]
  },
  {
   "cell_type": "code",
   "execution_count": 10,
   "id": "b93dd96e",
   "metadata": {},
   "outputs": [
    {
     "name": "stdout",
     "output_type": "stream",
     "text": [
      "Height:32\n",
      "Breadth:34\n",
      "Area formula: (Height*Breadth)/2\n",
      "Area of traingle 544.0\n",
      "Height1:2\n",
      "Height2:4\n",
      "Breadth:4\n",
      "Perimeter formula:Height1+Height2+Breadth\n",
      "Perimeter of triangle 10\n"
     ]
    }
   ],
   "source": [
    "triangle()"
   ]
  },
  {
   "cell_type": "code",
   "execution_count": null,
   "id": "002bc291",
   "metadata": {},
   "outputs": [],
   "source": []
  }
 ],
 "metadata": {
  "kernelspec": {
   "display_name": "Python 3 (ipykernel)",
   "language": "python",
   "name": "python3"
  },
  "language_info": {
   "codemirror_mode": {
    "name": "ipython",
    "version": 3
   },
   "file_extension": ".py",
   "mimetype": "text/x-python",
   "name": "python",
   "nbconvert_exporter": "python",
   "pygments_lexer": "ipython3",
   "version": "3.11.5"
  }
 },
 "nbformat": 4,
 "nbformat_minor": 5
}
