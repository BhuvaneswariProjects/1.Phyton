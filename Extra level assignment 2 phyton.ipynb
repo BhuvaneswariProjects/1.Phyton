{
 "cells": [
  {
   "cell_type": "code",
   "execution_count": 1,
   "id": "331b6817",
   "metadata": {},
   "outputs": [
    {
     "name": "stdout",
     "output_type": "stream",
     "text": [
      "0\n",
      "1\n",
      "2\n",
      "3\n",
      "4\n",
      "5\n",
      "6\n",
      "7\n",
      "8\n",
      "9\n",
      "10\n",
      "11\n",
      "12\n",
      "13\n",
      "14\n",
      "15\n",
      "16\n",
      "17\n",
      "18\n",
      "19\n"
     ]
    }
   ],
   "source": [
    "for num in range(0,20):\n",
    "    print(num)"
   ]
  },
  {
   "cell_type": "code",
   "execution_count": 9,
   "id": "cbae3266",
   "metadata": {},
   "outputs": [
    {
     "name": "stdout",
     "output_type": "stream",
     "text": [
      "10 11 12 13 14 15 16 17 18 19 "
     ]
    }
   ],
   "source": [
    "for num in range(10,20):\n",
    "    print(num, end=\" \")"
   ]
  },
  {
   "cell_type": "code",
   "execution_count": 16,
   "id": "c25dac08",
   "metadata": {},
   "outputs": [
    {
     "name": "stdout",
     "output_type": "stream",
     "text": [
      "7\n"
     ]
    }
   ],
   "source": [
    "lists=[10,20,14,55,43,87,76]\n",
    "print(len(lists))"
   ]
  },
  {
   "cell_type": "code",
   "execution_count": 34,
   "id": "5662fb99",
   "metadata": {},
   "outputs": [
    {
     "name": "stdout",
     "output_type": "stream",
     "text": [
      "A\n",
      "r\n",
      "t\n",
      "i\n",
      "f\n",
      "i\n",
      "c\n",
      "i\n",
      "a\n",
      "l\n",
      " \n",
      "I\n",
      "n\n",
      "t\n",
      "e\n",
      "l\n",
      "l\n",
      "i\n",
      "g\n",
      "e\n",
      "n\n",
      "c\n",
      "e\n"
     ]
    }
   ],
   "source": [
    "Name= \"Artificial Intelligence\"\n",
    "for i in Name:\n",
    "    print (i)"
   ]
  },
  {
   "cell_type": "code",
   "execution_count": 35,
   "id": "472fe846",
   "metadata": {},
   "outputs": [
    {
     "name": "stdout",
     "output_type": "stream",
     "text": [
      "-Your Name-\n",
      "-Your Age-\n",
      "-Your Profession-\n"
     ]
    }
   ],
   "source": [
    "print(\"-Your Name-\")\n",
    "print(\"-Your Age-\")\n",
    "print(\"-Your Profession-\")"
   ]
  },
  {
   "cell_type": "markdown",
   "id": "342ba4b5",
   "metadata": {},
   "source": [
    "#tuples"
   ]
  },
  {
   "cell_type": "code",
   "execution_count": 1,
   "id": "90dff3c8",
   "metadata": {},
   "outputs": [
    {
     "name": "stdout",
     "output_type": "stream",
     "text": [
      "((0, 1, 2, 3), ('phyton', 'HOPE'))\n"
     ]
    }
   ],
   "source": [
    "a=(0,1,2,3)\n",
    "b=(\"phyton\",\"HOPE\")\n",
    "c=(a,b)\n",
    "print(c)"
   ]
  },
  {
   "cell_type": "code",
   "execution_count": 3,
   "id": "0cb17391",
   "metadata": {},
   "outputs": [
    {
     "name": "stdout",
     "output_type": "stream",
     "text": [
      "(1, 'Welcome', 2, 'HOPE')\n"
     ]
    }
   ],
   "source": [
    "a=(1,\"Welcome\",2,\"HOPE\")\n",
    "print(a)"
   ]
  },
  {
   "cell_type": "markdown",
   "id": "8e9d8858",
   "metadata": {},
   "source": [
    "#odd numbers"
   ]
  },
  {
   "cell_type": "code",
   "execution_count": 1,
   "id": "166a72a7",
   "metadata": {},
   "outputs": [
    {
     "name": "stdout",
     "output_type": "stream",
     "text": [
      "(20, 10, 16, 19, 25, 1, 276, 188)\n"
     ]
    }
   ],
   "source": [
    "t=(20,10,16,19,25,1,276,188)\n",
    "print(t)"
   ]
  },
  {
   "cell_type": "code",
   "execution_count": 3,
   "id": "8c317d29",
   "metadata": {},
   "outputs": [
    {
     "name": "stdout",
     "output_type": "stream",
     "text": [
      "19 is odd\n",
      "25 is odd\n",
      "1 is odd\n"
     ]
    }
   ],
   "source": [
    "for num in t:\n",
    "    if(num%2==1):\n",
    "        print(num ,\"is odd\")\n",
    "\n"
   ]
  },
  {
   "cell_type": "markdown",
   "id": "bc995b20",
   "metadata": {},
   "source": [
    "#even number"
   ]
  },
  {
   "cell_type": "code",
   "execution_count": 4,
   "id": "370e0a3b",
   "metadata": {},
   "outputs": [
    {
     "name": "stdout",
     "output_type": "stream",
     "text": [
      "(20, 10, 16, 19, 25, 1, 276, 188)\n"
     ]
    }
   ],
   "source": [
    "t=(20,10,16,19,25,1,276,188)\n",
    "print(t)"
   ]
  },
  {
   "cell_type": "code",
   "execution_count": 5,
   "id": "b628d6fe",
   "metadata": {},
   "outputs": [
    {
     "name": "stdout",
     "output_type": "stream",
     "text": [
      "20 is odd\n",
      "10 is odd\n",
      "16 is odd\n",
      "276 is odd\n",
      "188 is odd\n"
     ]
    }
   ],
   "source": [
    "for num in t:\n",
    "    if (num%2==0):\n",
    "        print(num,'is odd')"
   ]
  },
  {
   "cell_type": "code",
   "execution_count": null,
   "id": "9033ea14",
   "metadata": {},
   "outputs": [],
   "source": []
  }
 ],
 "metadata": {
  "kernelspec": {
   "display_name": "Python 3 (ipykernel)",
   "language": "python",
   "name": "python3"
  },
  "language_info": {
   "codemirror_mode": {
    "name": "ipython",
    "version": 3
   },
   "file_extension": ".py",
   "mimetype": "text/x-python",
   "name": "python",
   "nbconvert_exporter": "python",
   "pygments_lexer": "ipython3",
   "version": "3.11.5"
  }
 },
 "nbformat": 4,
 "nbformat_minor": 5
}
