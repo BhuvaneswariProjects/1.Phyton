{
 "cells": [
  {
   "cell_type": "markdown",
   "id": "67e4fb1a",
   "metadata": {},
   "source": [
    "#create a class and function "
   ]
  },
  {
   "cell_type": "code",
   "execution_count": 1,
   "id": "104bd67e",
   "metadata": {},
   "outputs": [],
   "source": [
    "class SubfieldsInAI():\n",
    "    def Subfields():\n",
    "        print(\"Sub fields in AI are:\")\n",
    "        List=[\"Machine learning\",\"Neural Networks\",\"Vision\",\"Robotics\",\"Speech Processing\",\"Natural Language Processing\"]\n",
    "        for temp in List:\n",
    "            print(temp)\n",
    "    "
   ]
  },
  {
   "cell_type": "code",
   "execution_count": 3,
   "id": "14d28eea",
   "metadata": {},
   "outputs": [
    {
     "name": "stdout",
     "output_type": "stream",
     "text": [
      "Sub fields in AI are:\n",
      "Machine learning\n",
      "Neural Networks\n",
      "Vision\n",
      "Robotics\n",
      "Speech Processing\n",
      "Natural Language Processing\n"
     ]
    }
   ],
   "source": [
    "SubfieldsInAI.Subfields()"
   ]
  },
  {
   "cell_type": "code",
   "execution_count": 5,
   "id": "17e5fcc4",
   "metadata": {},
   "outputs": [],
   "source": [
    "class Oddeven():\n",
    "    def oddoreven():\n",
    "        num =int(input(\"Enter the number:\"))\n",
    "        if(num%2==0):\n",
    "            print(num,\"is even number\")\n",
    "        else:\n",
    "            print(num,\"is odd number\")"
   ]
  },
  {
   "cell_type": "code",
   "execution_count": 8,
   "id": "dfb9c324",
   "metadata": {},
   "outputs": [
    {
     "name": "stdout",
     "output_type": "stream",
     "text": [
      "Enter the number:52452\n",
      "52452 is even number\n"
     ]
    }
   ],
   "source": [
    "Oddeven.oddoreven()"
   ]
  },
  {
   "cell_type": "code",
   "execution_count": 9,
   "id": "9eb05af3",
   "metadata": {},
   "outputs": [],
   "source": [
    "class ElegibilityforMarriage():\n",
    "    def Eligible():\n",
    "        gender=input(\"Your gender:\");\n",
    "        age=int(input(\"Your age:\"));\n",
    "        if(gender==\"Male\"):\n",
    "            if(age<= 21):\n",
    "                print(\"NOT ELIGIBLE\");\n",
    "            else:\n",
    "                print(\"ELIGIBLE\")\n",
    "        "
   ]
  },
  {
   "cell_type": "code",
   "execution_count": 10,
   "id": "c29290bf",
   "metadata": {},
   "outputs": [
    {
     "name": "stdout",
     "output_type": "stream",
     "text": [
      "Your gender:Male\n",
      "Your age:20\n",
      "NOT ELIGIBLE\n"
     ]
    }
   ],
   "source": [
    "ElegibilityforMarriage.Eligible()"
   ]
  },
  {
   "cell_type": "code",
   "execution_count": 11,
   "id": "b660c7e1",
   "metadata": {},
   "outputs": [],
   "source": [
    "class Findpercent():\n",
    "    def percentage():\n",
    "        sub1=(int(input(\"Subject1=\")));\n",
    "        sub2=(int(input(\"Subject2=\")));\n",
    "        sub3=(int(input(\"Subject3=\")));\n",
    "        sub4=(int(input(\"Subject4=\")));\n",
    "        sub5=(int(input(\"Subject5=\")));\n",
    "        total = sub1+sub2+sub3+sub4+sub5\n",
    "        print(\"Total:\",total)\n",
    "        per=float(total)*(100/500)\n",
    "        print(\"Percentage:\",per)"
   ]
  },
  {
   "cell_type": "code",
   "execution_count": 12,
   "id": "c5e35ea9",
   "metadata": {},
   "outputs": [
    {
     "name": "stdout",
     "output_type": "stream",
     "text": [
      "Subject1=98\n",
      "Subject2=87\n",
      "Subject3=95\n",
      "Subject4=95\n",
      "Subject5=93\n",
      "Total: 468\n",
      "Percentage: 93.60000000000001\n"
     ]
    }
   ],
   "source": [
    "Findpercent.percentage()"
   ]
  },
  {
   "cell_type": "code",
   "execution_count": 13,
   "id": "70d0f0d7",
   "metadata": {},
   "outputs": [],
   "source": [
    "class triangle():\n",
    "    def triangle():\n",
    "        Height=int(input(\"Height:\"));\n",
    "        Breadth=int(input(\"Breadth:\"))\n",
    "        print(\"Area formula: (Height*Breadth)/2\")\n",
    "        Area = (Height*Breadth)/2\n",
    "        print(\"Area of traingle\",Area)\n",
    "        Height1=int(input(\"Height1:\"));\n",
    "        Height2=int(input(\"Height2:\"));\n",
    "        Breadth=int(input(\"Breadth:\"));\n",
    "        Perimeter=Height1+Height2+Breadth\n",
    "        print(\"Perimeter formula:Height1+Height2+Breadth\")\n",
    "        print(\"Perimeter of triangle\",Perimeter)\n",
    "\n",
    "    \n",
    " \n",
    "    \n",
    "\n",
    "\n",
    "\n",
    "\n"
   ]
  },
  {
   "cell_type": "code",
   "execution_count": 14,
   "id": "2720f26b",
   "metadata": {},
   "outputs": [
    {
     "name": "stdout",
     "output_type": "stream",
     "text": [
      "Height:32\n",
      "Breadth:34\n",
      "Area formula: (Height*Breadth)/2\n",
      "Area of traingle 544.0\n",
      "Height1:2\n",
      "Height2:4\n",
      "Breadth:4\n",
      "Perimeter formula:Height1+Height2+Breadth\n",
      "Perimeter of triangle 10\n"
     ]
    }
   ],
   "source": [
    "triangle.triangle()"
   ]
  },
  {
   "cell_type": "code",
   "execution_count": null,
   "id": "3bdb0d2c",
   "metadata": {},
   "outputs": [],
   "source": []
  }
 ],
 "metadata": {
  "kernelspec": {
   "display_name": "Python 3 (ipykernel)",
   "language": "python",
   "name": "python3"
  },
  "language_info": {
   "codemirror_mode": {
    "name": "ipython",
    "version": 3
   },
   "file_extension": ".py",
   "mimetype": "text/x-python",
   "name": "python",
   "nbconvert_exporter": "python",
   "pygments_lexer": "ipython3",
   "version": "3.11.5"
  }
 },
 "nbformat": 4,
 "nbformat_minor": 5
}
