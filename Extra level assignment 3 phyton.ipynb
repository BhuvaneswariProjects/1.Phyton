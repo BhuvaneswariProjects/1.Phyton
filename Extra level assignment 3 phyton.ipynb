{
 "cells": [
  {
   "cell_type": "code",
   "execution_count": 4,
   "id": "1e045111",
   "metadata": {},
   "outputs": [
    {
     "name": "stdout",
     "output_type": "stream",
     "text": [
      "value:10\n"
     ]
    }
   ],
   "source": [
    "i=int(input('value:'))"
   ]
  },
  {
   "cell_type": "code",
   "execution_count": 5,
   "id": "49629afb",
   "metadata": {},
   "outputs": [
    {
     "name": "stdout",
     "output_type": "stream",
     "text": [
      "correct\n"
     ]
    }
   ],
   "source": [
    "if(i==10):\n",
    "    print(\"correct\")"
   ]
  },
  {
   "cell_type": "markdown",
   "id": "176306f8",
   "metadata": {},
   "source": [
    "#Check the password using if and else"
   ]
  },
  {
   "cell_type": "code",
   "execution_count": 20,
   "id": "7116aa22",
   "metadata": {},
   "outputs": [
    {
     "name": "stdout",
     "output_type": "stream",
     "text": [
      "Enter the password:Hope@123\n"
     ]
    }
   ],
   "source": [
    "p=input(\"Enter the password:\")"
   ]
  },
  {
   "cell_type": "code",
   "execution_count": 21,
   "id": "35ccfef5",
   "metadata": {},
   "outputs": [
    {
     "name": "stdout",
     "output_type": "stream",
     "text": [
      "Your password is correct\n"
     ]
    }
   ],
   "source": [
    "if(p== \"Hope@123\"):\n",
    "    print(\"Your password is correct\")\n",
    "else:\n",
    "    print('Your password id wrong')"
   ]
  },
  {
   "cell_type": "markdown",
   "id": "44911197",
   "metadata": {},
   "source": [
    "#category the people"
   ]
  },
  {
   "cell_type": "code",
   "execution_count": 23,
   "id": "0abb46b6",
   "metadata": {},
   "outputs": [],
   "source": [
    "age=20"
   ]
  },
  {
   "cell_type": "code",
   "execution_count": 24,
   "id": "d810fb0f",
   "metadata": {},
   "outputs": [
    {
     "name": "stdout",
     "output_type": "stream",
     "text": [
      "Adult\n"
     ]
    }
   ],
   "source": [
    "if(age<17):\n",
    "    print('Children')\n",
    "elif(age<35):\n",
    "    print(\"Adult\")\n",
    "elif(age<59):\n",
    "    print(\"Citizen\")\n",
    "else:\n",
    "    print(\"senior citizen\")"
   ]
  },
  {
   "cell_type": "markdown",
   "id": "ae903293",
   "metadata": {},
   "source": [
    "#find positive or negative"
   ]
  },
  {
   "cell_type": "code",
   "execution_count": 26,
   "id": "835ed181",
   "metadata": {},
   "outputs": [
    {
     "name": "stdout",
     "output_type": "stream",
     "text": [
      "Enter any number:1\n",
      "No is positive\n"
     ]
    }
   ],
   "source": [
    "num=int(input(\"Enter any number:\"))\n",
    "if num>0:\n",
    "    print(\"No is positive\")\n",
    "else:\n",
    "    print(\"No is negative\")"
   ]
  },
  {
   "cell_type": "markdown",
   "id": "5df04577",
   "metadata": {},
   "source": [
    "#divisible by 5"
   ]
  },
  {
   "cell_type": "code",
   "execution_count": 29,
   "id": "88cf77c4",
   "metadata": {},
   "outputs": [
    {
     "name": "stdout",
     "output_type": "stream",
     "text": [
      "Enter the number to check:22\n",
      "No is not divisible by 5\n"
     ]
    }
   ],
   "source": [
    "num= int(input(\"Enter the number to check:\"))\n",
    "if(num%5==0):\n",
    "    print(num)\n",
    "else:\n",
    "    print(\"No is not divisible by 5\")\n"
   ]
  },
  {
   "cell_type": "code",
   "execution_count": null,
   "id": "a0218407",
   "metadata": {},
   "outputs": [],
   "source": []
  },
  {
   "cell_type": "code",
   "execution_count": null,
   "id": "c6b062e6",
   "metadata": {},
   "outputs": [],
   "source": []
  }
 ],
 "metadata": {
  "kernelspec": {
   "display_name": "Python 3 (ipykernel)",
   "language": "python",
   "name": "python3"
  },
  "language_info": {
   "codemirror_mode": {
    "name": "ipython",
    "version": 3
   },
   "file_extension": ".py",
   "mimetype": "text/x-python",
   "name": "python",
   "nbconvert_exporter": "python",
   "pygments_lexer": "ipython3",
   "version": "3.11.5"
  }
 },
 "nbformat": 4,
 "nbformat_minor": 5
}
