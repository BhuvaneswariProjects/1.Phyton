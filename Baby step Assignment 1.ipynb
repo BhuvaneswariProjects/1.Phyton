{
 "cells": [
  {
   "cell_type": "code",
   "execution_count": 1,
   "id": "eda3b88d",
   "metadata": {},
   "outputs": [
    {
     "name": "stdout",
     "output_type": "stream",
     "text": [
      "Welcome to assignment- 1\n"
     ]
    }
   ],
   "source": [
    "num1=1\n",
    "print(\"Welcome to assignment-\",num1)\n"
   ]
  },
  {
   "cell_type": "code",
   "execution_count": 3,
   "id": "cf09d009",
   "metadata": {},
   "outputs": [
    {
     "name": "stdout",
     "output_type": "stream",
     "text": [
      "Num1= 10\n",
      "Num2= 30\n",
      "Add= 40\n"
     ]
    }
   ],
   "source": [
    "num1=10\n",
    "num2=30\n",
    "add=num1+num2\n",
    "print(\"Num1=\",num1)\n",
    "print(\"Num2=\",num2)\n",
    "print(\"Add=\",add)"
   ]
  },
  {
   "cell_type": "markdown",
   "id": "f9ac07d6",
   "metadata": {},
   "source": [
    "#BODY MASS INDEX"
   ]
  },
  {
   "cell_type": "code",
   "execution_count": 4,
   "id": "3af3f0b0",
   "metadata": {},
   "outputs": [
    {
     "name": "stdout",
     "output_type": "stream",
     "text": [
      "Enter the BMI Index:34\n"
     ]
    }
   ],
   "source": [
    "BMI= int(input(\"Enter the BMI Index:\"))"
   ]
  },
  {
   "cell_type": "code",
   "execution_count": 5,
   "id": "df3fbca0",
   "metadata": {},
   "outputs": [
    {
     "name": "stdout",
     "output_type": "stream",
     "text": [
      "Very Overweight\n"
     ]
    }
   ],
   "source": [
    "if(BMI==34):\n",
    "    print(\"Very Overweight\")"
   ]
  },
  {
   "cell_type": "markdown",
   "id": "7a788ad2",
   "metadata": {},
   "source": [
    "#Another way"
   ]
  },
  {
   "cell_type": "code",
   "execution_count": 6,
   "id": "42c7292c",
   "metadata": {},
   "outputs": [
    {
     "name": "stdout",
     "output_type": "stream",
     "text": [
      "Enter the BMI Index:34\n"
     ]
    }
   ],
   "source": [
    "BMI= int(input(\"Enter the BMI Index:\"))"
   ]
  },
  {
   "cell_type": "code",
   "execution_count": 7,
   "id": "41a2e564",
   "metadata": {},
   "outputs": [
    {
     "name": "stdout",
     "output_type": "stream",
     "text": [
      "Very Overweight\n"
     ]
    }
   ],
   "source": [
    "if(BMI<18):\n",
    "    print(\"Underweight\")\n",
    "elif(BMI<24):\n",
    "    print(\"Normal\")\n",
    "elif(BMI<30):\n",
    "    print(\"Overweight\")\n",
    "else:\n",
    "    print(\"Very Overweight\")"
   ]
  },
  {
   "cell_type": "code",
   "execution_count": null,
   "id": "d84b2667",
   "metadata": {},
   "outputs": [],
   "source": []
  }
 ],
 "metadata": {
  "kernelspec": {
   "display_name": "Python 3 (ipykernel)",
   "language": "python",
   "name": "python3"
  },
  "language_info": {
   "codemirror_mode": {
    "name": "ipython",
    "version": 3
   },
   "file_extension": ".py",
   "mimetype": "text/x-python",
   "name": "python",
   "nbconvert_exporter": "python",
   "pygments_lexer": "ipython3",
   "version": "3.11.5"
  }
 },
 "nbformat": 4,
 "nbformat_minor": 5
}
